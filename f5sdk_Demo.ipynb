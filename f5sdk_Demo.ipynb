{
  "nbformat": 4,
  "nbformat_minor": 0,
  "metadata": {
    "colab": {
      "name": "f5sdk_Demo.ipynb",
      "provenance": [],
      "collapsed_sections": [],
      "include_colab_link": true
    },
    "kernelspec": {
      "name": "python3",
      "display_name": "Python 3"
    }
  },
  "cells": [
    {
      "cell_type": "markdown",
      "metadata": {
        "id": "view-in-github",
        "colab_type": "text"
      },
      "source": [
        "<a href=\"https://colab.research.google.com/github/jungcheolkwon/gcolab/blob/main/f5sdk_Demo.ipynb\" target=\"_parent\"><img src=\"https://colab.research.google.com/assets/colab-badge.svg\" alt=\"Open In Colab\"/></a>"
      ]
    },
    {
      "cell_type": "code",
      "metadata": {
        "id": "Q-oOHISBaP4C"
      },
      "source": [
        "!pip install f5-sdk-python f5-sdk ipstack pandas awscli"
      ],
      "execution_count": null,
      "outputs": []
    },
    {
      "cell_type": "markdown",
      "metadata": {
        "id": "YUyVrWTEk0Op"
      },
      "source": [
        "**Add Colab IP address to AWS Security-Group at each regions**\n",
        "- need to take AWS STS keys before run this scripts"
      ]
    },
    {
      "cell_type": "code",
      "metadata": {
        "id": "HCj3L3i-f5q4"
      },
      "source": [
        "from google.colab import drive\n",
        "from google.colab import files\n",
        "drive.mount(\"/content/gdrive\")\n",
        "!cp \"/content/gdrive/MyDrive/Colab/aws_acl.sh\" '/content'\n",
        "!chmod 755 aws_acl.sh\n",
        "!./aws_acl.sh"
      ],
      "execution_count": null,
      "outputs": []
    },
    {
      "cell_type": "markdown",
      "metadata": {
        "id": "bsVVOnMnkpJR"
      },
      "source": [
        "**Lession1. Get BIGIP basic information**"
      ]
    },
    {
      "cell_type": "code",
      "metadata": {
        "id": "Lv7wudTkD9CN",
        "colab": {
          "base_uri": "https://localhost:8080/"
        },
        "outputId": "776b5d2f-2d90-454d-caf9-475b327dc57b"
      },
      "source": [
        "#Lession1. how to bigip basic information\n",
        "#2.Dec.2020\n",
        "\n",
        "from f5.bigip import ManagementRoot\n",
        "from getpass import getpass\n",
        "from ipstack import GeoLookup\n",
        "import pandas as pd\n",
        "from google.colab import drive\n",
        "\n",
        "with open('/content/gdrive/MyDrive/Colab/credential.txt', \"r\") as f:\n",
        "  cred = f.read().splitlines() \n",
        "  user = cred[0];   pwd = cred[1]\n",
        "\n",
        "# user = input('Enter username:')\n",
        "# pwd = getpass('Enter admin password')\n",
        "\n",
        "geo_lookup = GeoLookup(\"0cbeddca8c7f050ead7d6eff52a73bb4\")\n",
        "\n",
        "data = []\n",
        "with open('/content/gdrive/MyDrive/Colab/hosts.txt', \"r\") as f:\n",
        "  hosts = f.read().splitlines()\n",
        "  for ip in hosts:\n",
        "    mgmt = ManagementRoot(ip, user, pwd, port=8443)\n",
        "\n",
        "    location = geo_lookup.get_location(ip)\n",
        "    address = location['country_code']\n",
        "    version = mgmt.tmos_version\n",
        "    data.append([ip, address, version])\n",
        "  df = pd.DataFrame(data, columns=[\"IP\", \"Location\", \"Version\"])\n",
        "  print(df)\n",
        "#remove comment(#) the below lines to save csv file\n",
        "df.to_csv('/content/gdrive/MyDrive/Colab/device_info.csv')\n"
      ],
      "execution_count": null,
      "outputs": [
        {
          "output_type": "stream",
          "text": [
            "              IP Location   Version\n",
            "0    3.121.15.40       DE    15.1.1\n",
            "1  13.251.170.12       SG    14.1.3\n",
            "2  34.205.120.66       US  15.0.1.1\n"
          ],
          "name": "stdout"
        }
      ]
    },
    {
      "cell_type": "markdown",
      "metadata": {
        "id": "P78r3T0Vkw_I"
      },
      "source": [
        "**Lession2. Create VS, Pool and Members**"
      ]
    },
    {
      "cell_type": "code",
      "metadata": {
        "id": "wFrX1rMsWWq1",
        "colab": {
          "base_uri": "https://localhost:8080/"
        },
        "outputId": "06db31fc-f5c6-4aef-fd50-1623d798f519"
      },
      "source": [
        "##Lession2; how to create VS, Pools, Members\n",
        "##2.Dec.2020\n",
        "\n",
        "from f5.bigip import ManagementRoot\n",
        "from getpass import getpass\n",
        "from ipstack import GeoLookup \n",
        "import pandas as pd  \n",
        "\n",
        "def MyFunction(location,pip,vip):\n",
        "    my_node = location + \"-NODE\"\n",
        "    ltm.nodes.node.create(partiion='Common', name=my_node, address=pip, monitors='http')\n",
        "\n",
        "    my_pool = location + \"-POOL\"\n",
        "    params = {\n",
        "        'name': my_pool,\n",
        "        'partition': 'Common',\n",
        "        'monitor': 'http'\n",
        "    }\n",
        "    ltm.pools.pool.create(**params)\n",
        "\n",
        "    member_port = '80'\n",
        "    pool = ltm.pools.pool.load(name=my_pool)\n",
        "    pool.members_s.members.create(partition='Common', name=my_node + \":\" + member_port)\n",
        "\n",
        "    vs_name = location + \"-VS\"\n",
        "    params = {\n",
        "        'name': vs_name,\n",
        "        'partition': 'Common',\n",
        "        'source': '0.0.0.0/0',\n",
        "        'destination': '{}:{}'.format(vip, str(80)),\n",
        "        'mask': '255.255.255.255',\n",
        "        'description': 'Created by F5 SDK',\n",
        "        'protocol': 'tcp',\n",
        "        'pool': my_pool,\n",
        "        'profiles': [\n",
        "          {'name': 'http'},\n",
        "          {'name': 'tcp'}           \n",
        "        ],\n",
        "        'sourceAddressTranslation': {'type': 'automap'},\n",
        "        'vlansEnabled': True,\n",
        "        'vlans': ['/Common/internal']\n",
        "    }\n",
        "    ltm.virtuals.virtual.create(**params)\n",
        "\n",
        "    print ('Created objects at\"', location, sep=' ') \n",
        "    print (\"   \")\n",
        "    return\n",
        "\n",
        "with open('/content/gdrive/MyDrive/Colab/credential.txt', \"r\") as f:\n",
        "  cred = f.read().splitlines() \n",
        "  user = cred[0];   pwd = cred[1]\n",
        "\n",
        "#user = input('Enter username:')\n",
        "#pwd = getpass('Enter admin password')\n",
        "\n",
        "with open('/content/gdrive/MyDrive/Colab/hosts.txt', \"r\") as f:\n",
        "  hosts = f.read().splitlines()\n",
        "  for ip in hosts:\n",
        "    mgmt = ManagementRoot(ip, user, pwd, port=8443)\n",
        "    ltm = mgmt.tm.ltm\n",
        "\n",
        "    geo_lookup = GeoLookup(\"0cbeddca8c7f050ead7d6eff52a73bb4\")\n",
        "    geoinfo = geo_lookup.get_location(ip)\n",
        "    location = geoinfo['country_code']\n",
        "    #version = mgmt.tmos_version\n",
        "\n",
        "    if location == 'SG':\n",
        "    #if ( location == 'SG' and version == '14.1.3' ):\n",
        "    #if ( location == 'SG' and version == '15.1.1' ):\n",
        "      pip='172.31.17.204'\n",
        "      vip='0.0.0.0'\n",
        "      MyFunction(location,pip,vip)\n",
        "\n",
        "    if location == 'DE':\n",
        "    #if ( location == 'DE' and version == '15.1.1' ):\n",
        "      pip='172.31.17.180'\n",
        "      vip='0.0.0.0'\n",
        "      MyFunction(location,pip,vip)\n",
        "\n",
        "    if location == 'US':\n",
        "    #if ( location == 'US' and version =='15.0.1.1' ):\n",
        "    #if ( location == 'US' and version =='14.1.3' ):\n",
        "      pip='10.0.0.237' \n",
        "      vip='0.0.0.0'\n",
        "      MyFunction(location,pip,vip)\n",
        "\n",
        "print ('Completed')"
      ],
      "execution_count": null,
      "outputs": [
        {
          "output_type": "stream",
          "text": [
            "Created objects at\" DE\n",
            "   \n",
            "Created objects at\" SG\n",
            "   \n",
            "Created objects at\" US\n",
            "   \n",
            "Completed\n"
          ],
          "name": "stdout"
        }
      ]
    },
    {
      "cell_type": "markdown",
      "metadata": {
        "id": "bnjzsKzCk5iB"
      },
      "source": [
        "***Lession3. Get VS, Pools and Members ***"
      ]
    },
    {
      "cell_type": "code",
      "metadata": {
        "id": "10eEsY0gZqD8",
        "colab": {
          "base_uri": "https://localhost:8080/"
        },
        "outputId": "853b76ea-58c0-426b-ccf8-d99428eaa1a4"
      },
      "source": [
        "##Lession3; how to Get VS, Pools, Members\n",
        "##2.Dec.2020\n",
        "\n",
        "from f5.bigip import ManagementRoot\n",
        "from getpass import getpass\n",
        "import pandas as pd \n",
        "\n",
        "with open('/content/gdrive/MyDrive/Colab/credential.txt', \"r\") as f:\n",
        "  cred = f.read().splitlines() \n",
        "  user = cred[0];   pwd = cred[1]\n",
        "\n",
        "#user = input('Enter username:')\n",
        "#pwd = getpass('Enter admin password')\n",
        "\n",
        "data = []\n",
        "with open('/content/gdrive/MyDrive/Colab/hosts.txt', \"r\") as f:\n",
        "  hosts = f.read().splitlines()\n",
        "  for ip in hosts:\n",
        "    mgmt = ManagementRoot(ip, user, pwd, port=8443)\n",
        "    pools = mgmt.tm.ltm.pools.get_collection()\n",
        "    virtuals = mgmt.tm.ltm.virtuals.get_collection()\n",
        "\n",
        "    for pool in pools:\n",
        "      POOLS = pool.name\n",
        "      for member in pool.members_s.get_collection():\n",
        "        MEMBERS = member.name\n",
        "        for virtual in virtuals:\n",
        "          VS = virtual.name\n",
        "        data.append([VS, POOLS, MEMBERS])\n",
        "df = pd.DataFrame(data, columns=[\"VS\", \"POOLS\", \"MEMBERS\"])\n",
        "print(df)\n",
        "#remove comment(#) the below lines to save csv file\n",
        "df.to_csv('/content/gdrive/MyDrive/Colab/device_pools.csv')"
      ],
      "execution_count": null,
      "outputs": [
        {
          "output_type": "stream",
          "text": [
            "      VS    POOLS     MEMBERS\n",
            "0  DE-VS  DE-POOL  DE-NODE:80\n",
            "1  SG-VS  SG-POOL  SG-NODE:80\n",
            "2  US-VS  US-POOL  US-NODE:80\n"
          ],
          "name": "stdout"
        }
      ]
    },
    {
      "cell_type": "markdown",
      "metadata": {
        "id": "MJj3oWGZlEjX"
      },
      "source": [
        "**Lession4. Delete Objects**"
      ]
    },
    {
      "cell_type": "code",
      "metadata": {
        "id": "TfYNRLjIj73i"
      },
      "source": [
        "#Lession4. Delete objects\n",
        "##2.Dec.2020\n",
        "\n",
        "from f5.bigip import ManagementRoot\n",
        "from getpass import getpass\n",
        "from ipstack import GeoLookup \n",
        "import pandas as pd \n",
        "\n",
        "with open('/content/gdrive/MyDrive/Colab/credential.txt', \"r\") as f:\n",
        "  cred = f.read().splitlines() \n",
        "  user = cred[0];   pwd = cred[1]\n",
        "\n",
        "#user = input('Enter username:')\n",
        "#pwd = getpass('Enter admin password')\n",
        "\n",
        "with open('/content/gdrive/MyDrive/Colab/hosts.txt', \"r\") as f:\n",
        "  hosts = f.read().splitlines()\n",
        "  for ip in hosts:\n",
        "    mgmt = ManagementRoot(ip, user, pwd, port=8443)\n",
        "    ltm = mgmt.tm.ltm\n",
        "\n",
        "    geo_lookup = GeoLookup(\"0cbeddca8c7f050ead7d6eff52a73bb4\")\n",
        "    geoinfo = geo_lookup.get_location(ip)\n",
        "    location = geoinfo['country_code']\n",
        "\n",
        "    vs_name = location + \"-VS\"\n",
        "    if ltm.virtuals.virtual.exists(partition='Common', name=vs_name):\n",
        "        virtual = ltm.virtuals.virtual.load(\n",
        "            partition='Common', name=vs_name)\n",
        "        virtual.delete()\n",
        "    else:\n",
        "        print(\"Virtual server does not exist\")\n",
        "        break\n",
        "\n",
        "    my_pool = location + \"-POOL\"\n",
        "    ltm.pools.pool.load(partition='Common', name=my_pool).delete()\n",
        "\n",
        "    my_node = location + \"-NODE\"\n",
        "    ltm.nodes.node.load(partition='Common', name=my_node).delete()\n",
        "\n",
        "    print (\"Deleted objects from\" + \"  \" + location)\n",
        "    print (\"   \")\n",
        "print (\"completed!!\")"
      ],
      "execution_count": null,
      "outputs": []
    },
    {
      "cell_type": "markdown",
      "metadata": {
        "id": "7qrSdyoyWhtW"
      },
      "source": [
        "**Lession5. AS3 with SDK to create/delete Objects**"
      ]
    },
    {
      "cell_type": "code",
      "metadata": {
        "id": "Ofvayzb9WABm"
      },
      "source": [
        "#Lession5. AS3 with SDK to create and delete objects\n",
        "##4.Dec.2020\n",
        "\n",
        "from f5sdk.bigip import ManagementClient\n",
        "from f5sdk.bigip.extension import AS3Client, DOClient, TSClient, CFClient\n",
        "from google.colab import drive\n",
        "from getpass import getpass\n",
        "\n",
        "#drive.mount(\"/content/gdrive\", force_remount=True)\n",
        "\n",
        "with open('/content/gdrive/MyDrive/Colab/credential.txt', \"r\") as f:\n",
        "  cred = f.read().splitlines() \n",
        "  user = cred[0];   pwd = cred[1]\n",
        "\n",
        "#user = input('Enter username: ')\n",
        "#pwd = getpass('Enter admin password')\n",
        "action = input('Do you want to add or del? Type add or del')\n",
        "\n",
        "def Action(action,location):\n",
        "    if action == 'add':\n",
        "      if location == 'SG':\n",
        "        extension_client.service.create(config_file='/content/gdrive/MyDrive/Colab/as3-sg2.json')\n",
        "        print (\"AS3 Template is just loaded at\"+ \" \"+location)\n",
        "\n",
        "      if location == 'DE':\n",
        "        extension_client.service.create(config_file='/content/gdrive/MyDrive/Colab/as3-de.json')\n",
        "        print (\"AS3 Template is just loaded at\"+ \" \"+location)\n",
        "\n",
        "      if location == 'US':\n",
        "        extension_client.service.create(config_file='/content/gdrive/MyDrive/Colab/as3-us.json')\n",
        "        print (\"AS3 Template is just loaded at\"+ \" \"+location)\n",
        "      \n",
        "    if action == 'del':\n",
        "      if location == 'SG':\n",
        "        extension_client.service.create(config_file='/content/gdrive/MyDrive/Colab/as3_del.json')\n",
        "        print (\"AS3 Configuration is just deleted at\"+ \" \"+location)\n",
        "\n",
        "      if location == 'DE':\n",
        "        extension_client.service.create(config_file='/content/gdrive/MyDrive/Colab/as3_del.json')\n",
        "        print (\"AS3 Configuration is just deleted at\"+ \" \"+location)\n",
        "\n",
        "      if location == 'US':\n",
        "        extension_client.service.create(config_file='/content/gdrive/MyDrive/Colab/as3_del.json')\n",
        "        print (\"AS3 Configuration is just deleted at\"+ \" \"+location)\n",
        "    return\n",
        "\n",
        "with open('/content/gdrive/MyDrive/Colab/hosts.txt', \"r\") as f:\n",
        "  hosts = f.read().splitlines()\n",
        "  for ip in hosts:\n",
        "    mgmt_client = ManagementClient(ip, user=user, password=pwd)\n",
        "    extension_client = AS3Client(mgmt_client)\n",
        "\n",
        "    geo_lookup = GeoLookup(\"0cbeddca8c7f050ead7d6eff52a73bb4\")\n",
        "    geoinfo = geo_lookup.get_location(ip)\n",
        "    location = geoinfo['country_code']\n",
        "    if action == 'add' or action == 'del':\n",
        "      Action(action,location)\n",
        "\n",
        "print (\"Completed\")"
      ],
      "execution_count": null,
      "outputs": []
    },
    {
      "cell_type": "markdown",
      "metadata": {
        "id": "iV4v2lpxW_HH"
      },
      "source": [
        "Lession6. Take statistics"
      ]
    },
    {
      "cell_type": "code",
      "metadata": {
        "id": "0RBOGiMpW9ek"
      },
      "source": [
        "#Lession5. Take pools statistics info\n",
        "##6.Dec.2020\n",
        "\n",
        "from f5.bigip import ManagementRoot\n",
        "from getpass import getpass\n",
        "from ipstack import GeoLookup \n",
        "import pandas as pd \n",
        "\n",
        "with open('/content/gdrive/MyDrive/Colab/credential.txt', \"r\") as f:\n",
        "  cred = f.read().splitlines() \n",
        "  user = cred[0];   pwd = cred[1]\n",
        "\n",
        "#user = input('Enter username: ')\n",
        "#pwd = getpass('Enter admin password')\n",
        "\n",
        "data = []\n",
        "with open('/content/gdrive/MyDrive/Colab/hosts.txt', \"r\") as f:\n",
        "  hosts = f.read().splitlines()\n",
        "  for ip in hosts:\n",
        "    mgmt = ManagementRoot(ip, user, pwd, port=8443)\n",
        "    ltm = mgmt.tm.ltm\n",
        "\n",
        "    geo_lookup = GeoLookup(\"0cbeddca8c7f050ead7d6eff52a73bb4\")\n",
        "    geoinfo = geo_lookup.get_location(ip)\n",
        "    location = geoinfo['country_code']\n",
        "    \n",
        "    my_pool = location + \"-POOL\"\n",
        "    partition = 'Common'\n",
        "\n",
        "    print ('-----', my_pool, '-----', sep=' ')\n",
        "    \n",
        "    pool  = ltm.pools.pool.load(name=my_pool, partition=partition)\n",
        "    stats = pool.stats.load()\n",
        "\n",
        "    for item in stats.entries:\n",
        "      params = stats.entries.get(item).get('nestedStats').get('entries')\n",
        "      stuff = ['activeMemberCnt','curSessions','serverside.curConns','serverside.maxConns','serverside.totConns','status.enabledState','status.availabilityState']\n",
        " \n",
        "    for item in stuff:\n",
        "      for key in ('value','description'):\n",
        "        if key in params[item]:\n",
        "          print(\"{}: {}\".format(item,params[item][key]))\n",
        "          #df = pd.DataFrame(data, format(item,params[item][key]))\n",
        "          #print(df)\n",
        "#remove comment(#) the below lines to save csv file\n",
        "#df.to_csv('/content/gdrive/MyDrive/Colab/pools_statistics.csv')\n",
        " "
      ],
      "execution_count": null,
      "outputs": []
    }
  ]
}